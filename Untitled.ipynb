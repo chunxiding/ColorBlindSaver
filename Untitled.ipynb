{
 "cells": [
  {
   "cell_type": "code",
   "execution_count": 12,
   "metadata": {},
   "outputs": [],
   "source": [
    "#video detection of single color\n",
    "import cv2\n",
    "import numpy as np\n",
    "cap = cv2.VideoCapture(0)\n",
    "#set blue boundaries so that only blue objects are detected\n",
    "lower_blue=np.array([78,43,46])\n",
    "upper_blue=np.array([110,255,255])\n",
    "while(1):  \n",
    "    ret, frame = cap.read()   \n",
    "    cv2.imshow('Capture', frame)  \n",
    "    hsv = cv2.cvtColor(frame, cv2.COLOR_BGR2HSV) \n",
    "    #mask covers non-blue objects with black\n",
    "    mask = cv2.inRange(hsv, lower_blue, upper_blue)\n",
    "    cv2.imshow('Mask', mask)\n",
    "    #res show only the unmasked part with color\n",
    "    res = cv2.bitwise_and(frame, frame, mask=mask)\n",
    "    #if res != mask:\n",
    "    #    font = cv2.FONT_HERSHEY_SIMPLEX\n",
    "    #    cv2.putText(res,'Blue',(10,500), font, 4,(255,255,255),2,cv2.LINE_AA)\n",
    "    cv2.imshow('Result', res)   \n",
    "    if cv2.waitKey(1) & 0xFF == ord('q'):      \n",
    "        break\n",
    "cap.release()\n",
    "cv2.waitKey(1)\n",
    "cv2.destroyAllWindows()\n",
    "for i in range (1,5):\n",
    "    cv2.waitKey(1)"
   ]
  },
  {
   "cell_type": "code",
   "execution_count": null,
   "metadata": {},
   "outputs": [],
   "source": []
  }
 ],
 "metadata": {
  "kernelspec": {
   "display_name": "Python 3",
   "language": "python",
   "name": "python3"
  },
  "language_info": {
   "codemirror_mode": {
    "name": "ipython",
    "version": 3
   },
   "file_extension": ".py",
   "mimetype": "text/x-python",
   "name": "python",
   "nbconvert_exporter": "python",
   "pygments_lexer": "ipython3",
   "version": "3.7.1"
  }
 },
 "nbformat": 4,
 "nbformat_minor": 2
}
