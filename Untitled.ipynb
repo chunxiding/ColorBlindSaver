{
 "cells": [
  {
   "cell_type": "code",
   "execution_count": 2,
   "metadata": {},
   "outputs": [],
   "source": [
    "#video detection of single color\n",
    "import cv2\n",
    "import numpy as np\n",
    "cap = cv2.VideoCapture(0)\n",
    "#set blue boundaries so that only blue objects are detected\n",
    "lower_blue=np.array([78,43,46])\n",
    "upper_blue=np.array([110,255,255])\n",
    "while(1):  \n",
    "    ret, frame = cap.read()   \n",
    "    cv2.imshow('Capture', frame)  \n",
    "    hsv = cv2.cvtColor(frame, cv2.COLOR_BGR2HSV) \n",
    "    #mask covers non-blue objects with black\n",
    "    mask = cv2.inRange(hsv, lower_blue, upper_blue)\n",
    "    cv2.imshow('Mask', mask)\n",
    "    #res show only the unmasked part with color\n",
    "    res = cv2.bitwise_and(frame, frame, mask=mask)\n",
    "    #if res != mask:\n",
    "    #    font = cv2.FONT_HERSHEY_SIMPLEX\n",
    "    #    cv2.putText(res,'Blue',(10,500), font, 4,(255,255,255),2,cv2.LINE_AA)\n",
    "    cv2.imshow('Result', res)   \n",
    "    if cv2.waitKey(1) & 0xFF == ord('q'):      \n",
    "        break\n",
    "cap.release()\n",
    "cv2.waitKey(1)\n",
    "cv2.destroyAllWindows()\n",
    "for i in range (1,5):\n",
    "    cv2.waitKey(1)"
   ]
  },
  {
   "cell_type": "code",
   "execution_count": 1,
   "metadata": {},
   "outputs": [
    {
     "ename": "KeyboardInterrupt",
     "evalue": "",
     "output_type": "error",
     "traceback": [
      "\u001b[0;31m---------------------------------------------------------------------------\u001b[0m",
      "\u001b[0;31mKeyboardInterrupt\u001b[0m                         Traceback (most recent call last)",
      "\u001b[0;32m<ipython-input-1-f6f5d8918147>\u001b[0m in \u001b[0;36m<module>\u001b[0;34m\u001b[0m\n\u001b[1;32m     21\u001b[0m         \u001b[0;31m#    cv2.putText(output,'Blue',(10,500), font, 4,(255,255,255),2,cv2.LINE_AA)\u001b[0m\u001b[0;34m\u001b[0m\u001b[0;34m\u001b[0m\u001b[0;34m\u001b[0m\u001b[0m\n\u001b[1;32m     22\u001b[0m         \u001b[0mcv2\u001b[0m\u001b[0;34m.\u001b[0m\u001b[0mimshow\u001b[0m\u001b[0;34m(\u001b[0m\u001b[0;34m\"images\"\u001b[0m\u001b[0;34m,\u001b[0m \u001b[0mnp\u001b[0m\u001b[0;34m.\u001b[0m\u001b[0mvstack\u001b[0m\u001b[0;34m(\u001b[0m\u001b[0;34m[\u001b[0m\u001b[0mimage\u001b[0m\u001b[0;34m,\u001b[0m \u001b[0moutput\u001b[0m\u001b[0;34m]\u001b[0m\u001b[0;34m)\u001b[0m\u001b[0;34m)\u001b[0m\u001b[0;34m\u001b[0m\u001b[0;34m\u001b[0m\u001b[0m\n\u001b[0;32m---> 23\u001b[0;31m     \u001b[0;32mif\u001b[0m \u001b[0mcv2\u001b[0m\u001b[0;34m.\u001b[0m\u001b[0mwaitKey\u001b[0m\u001b[0;34m(\u001b[0m\u001b[0;36m1\u001b[0m\u001b[0;34m)\u001b[0m \u001b[0;34m&\u001b[0m \u001b[0;36m0xFF\u001b[0m \u001b[0;34m==\u001b[0m \u001b[0mord\u001b[0m\u001b[0;34m(\u001b[0m\u001b[0;34m'q'\u001b[0m\u001b[0;34m)\u001b[0m\u001b[0;34m:\u001b[0m\u001b[0;34m\u001b[0m\u001b[0;34m\u001b[0m\u001b[0m\n\u001b[0m\u001b[1;32m     24\u001b[0m         \u001b[0;32mbreak\u001b[0m\u001b[0;34m\u001b[0m\u001b[0;34m\u001b[0m\u001b[0m\n\u001b[1;32m     25\u001b[0m \u001b[0;34m\u001b[0m\u001b[0m\n",
      "\u001b[0;31mKeyboardInterrupt\u001b[0m: "
     ]
    }
   ],
   "source": [
    "#image detection of single color\n",
    "import cv2\n",
    "import numpy as np\n",
    "image = cv2.imread('greenchart.png')\n",
    "\n",
    "boundaries = [\n",
    "    ([35,43,46], [77,255,255]) #green\n",
    "]\n",
    "\n",
    "while(1):\n",
    "    for (lower, upper) in boundaries:\n",
    "        lower = np.array(lower, dtype = \"uint8\")\n",
    "        upper = np.array(upper, dtype = \"uint8\")\n",
    "\n",
    "        #mask\n",
    "        hsv = cv2.cvtColor(image, cv2.COLOR_BGR2HSV) \n",
    "        mask = cv2.inRange(hsv, lower, upper)\n",
    "        output = cv2.bitwise_and(image, image, mask = mask)\n",
    "        #if output != mask:\n",
    "        #    font = cv2.FONT_HERSHEY_SIMPLEX\n",
    "        #    cv2.putText(output,'Blue',(10,500), font, 4,(255,255,255),2,cv2.LINE_AA)\n",
    "        cv2.imshow(\"images\", np.vstack([image, output]))\n",
    "    if cv2.waitKey(1) & 0xFF == ord('q'):      \n",
    "        break\n",
    "\n",
    "cv2.waitKey(1)\n",
    "cv2.destroyAllWindows()\n",
    "for i in range (1,5):\n",
    "    cv2.waitKey(1)\n",
    "    "
   ]
  },
  {
   "cell_type": "code",
   "execution_count": null,
   "metadata": {},
   "outputs": [],
   "source": []
  }
 ],
 "metadata": {
  "kernelspec": {
   "display_name": "Python 3",
   "language": "python",
   "name": "python3"
  },
  "language_info": {
   "codemirror_mode": {
    "name": "ipython",
    "version": 3
   },
   "file_extension": ".py",
   "mimetype": "text/x-python",
   "name": "python",
   "nbconvert_exporter": "python",
   "pygments_lexer": "ipython3",
   "version": "3.7.1"
  }
 },
 "nbformat": 4,
 "nbformat_minor": 2
}
